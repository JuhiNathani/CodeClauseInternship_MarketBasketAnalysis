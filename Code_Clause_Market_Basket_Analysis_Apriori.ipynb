{
  "cells": [
    {
      "cell_type": "markdown",
      "metadata": {
        "id": "view-in-github",
        "colab_type": "text"
      },
      "source": [
        "<a href=\"https://colab.research.google.com/github/JuhiNathani/CodeClauseInternship_MarketBasketAnalysis/blob/main/Code_Clause_Market_Basket_Analysis_Apriori.ipynb\" target=\"_parent\"><img src=\"https://colab.research.google.com/assets/colab-badge.svg\" alt=\"Open In Colab\"/></a>"
      ]
    },
    {
      "cell_type": "markdown",
      "source": [
        "# **Market Basket Analysis**"
      ],
      "metadata": {
        "id": "YEAlqaML_rI5"
      }
    },
    {
      "cell_type": "code",
      "source": [
        "import warnings\n",
        "warnings.filterwarnings(\"ignore\")"
      ],
      "metadata": {
        "id": "d9NAaJj7mx-h"
      },
      "execution_count": 15,
      "outputs": []
    },
    {
      "cell_type": "code",
      "execution_count": 16,
      "metadata": {
        "id": "lbz32EJ1kOKi"
      },
      "outputs": [],
      "source": [
        "## Code to install any package via python\n",
        "\n",
        "def install_and_import(package):\n",
        "    import importlib\n",
        "    try:\n",
        "        importlib.import_module(package)\n",
        "    except ImportError:\n",
        "        import pip\n",
        "        pip.main(['install', package])\n",
        "    finally:\n",
        "        globals()[package] = importlib.import_module(package)\n",
        "\n",
        "install_and_import('mlxtend')"
      ]
    },
    {
      "cell_type": "markdown",
      "metadata": {
        "id": "paAI8eKgkOKj"
      },
      "source": [
        "Installing packages:"
      ]
    },
    {
      "cell_type": "code",
      "execution_count": 17,
      "metadata": {
        "collapsed": true,
        "id": "z0DqAC4tkOKk"
      },
      "outputs": [],
      "source": [
        "import pandas as pd\n",
        "from mlxtend.frequent_patterns import apriori\n",
        "from mlxtend.frequent_patterns import association_rules"
      ]
    },
    {
      "cell_type": "markdown",
      "metadata": {
        "id": "UHxOvd12kOKk"
      },
      "source": [
        "Importing the data:"
      ]
    },
    {
      "cell_type": "code",
      "execution_count": null,
      "metadata": {
        "id": "rEpTCJcMkOKk"
      },
      "outputs": [],
      "source": [
        "df = pd.read_excel('Online Retail.xlsx')\n",
        "df.head()"
      ]
    },
    {
      "cell_type": "code",
      "execution_count": null,
      "metadata": {
        "id": "OgRJMwC9kOKm"
      },
      "outputs": [],
      "source": [
        "df['Description'] = df['Description'].str.strip()\n",
        "df.dropna(axis = 0, subset=['InvoiceNo'], inplace = True)\n",
        "df['InvoiceNo'] = df['InvoiceNo'].astype('str')\n",
        "df = df[~df['InvoiceNo'].str.contains('C')]"
      ]
    },
    {
      "cell_type": "markdown",
      "metadata": {
        "id": "j9g0RxotkOKm"
      },
      "source": [
        "Before proceeding, let us understand the data distribution by country:"
      ]
    },
    {
      "cell_type": "code",
      "execution_count": null,
      "metadata": {
        "id": "Cc_t0i76kOKm"
      },
      "outputs": [],
      "source": [
        "df.groupby('Country').count().reset_index().sort_values('InvoiceNo', ascending = False).head()"
      ]
    },
    {
      "cell_type": "code",
      "execution_count": null,
      "metadata": {
        "id": "2y_wTqw-kOKn"
      },
      "outputs": [],
      "source": [
        "Basket = (df[df['Country']==\"Germany\"]\n",
        "          .groupby(['InvoiceNo', 'Description'])['Quantity']\n",
        "          .sum().unstack().reset_index().fillna(0)\n",
        "          .set_index('InvoiceNo'))\n",
        "\n",
        "Basket.head()"
      ]
    },
    {
      "cell_type": "markdown",
      "metadata": {
        "id": "YqNUa04gkOKn"
      },
      "source": [
        "In-order to complete the one-hot encoding process, we need to replace all values of quantity >=1 by 1."
      ]
    },
    {
      "cell_type": "code",
      "execution_count": null,
      "metadata": {
        "id": "P9ynVeL_kOKo"
      },
      "outputs": [],
      "source": [
        "def sum_to_boolean(x):\n",
        "    if x<=0:\n",
        "        return 0\n",
        "    else:\n",
        "        return 1\n",
        "\n",
        "Basket_Final = Basket.applymap(sum_to_boolean)\n"
      ]
    },
    {
      "cell_type": "markdown",
      "metadata": {
        "id": "hwRPFBTxkOKo"
      },
      "source": [
        "Dropping the postage column, and the final one-hot codded matrix."
      ]
    },
    {
      "cell_type": "code",
      "execution_count": null,
      "metadata": {
        "id": "FjvVWee5kOKo"
      },
      "outputs": [],
      "source": [
        "Basket_Final.drop('POSTAGE', inplace=True, axis=1)\n",
        "\n",
        "Basket_Final.head()"
      ]
    },
    {
      "cell_type": "markdown",
      "metadata": {
        "id": "RGqWl3A_kOKo"
      },
      "source": [
        "** Apriori:**\n",
        "\n",
        "To start with and have sufficient data, let us look at frequent itemsets that have a support of atleast 6%."
      ]
    },
    {
      "cell_type": "code",
      "execution_count": null,
      "metadata": {
        "id": "JmmZVKE2kOKp"
      },
      "outputs": [],
      "source": [
        "## Apriori to select the most important itemsets\n",
        "Frequent_itemsets = apriori(Basket_Final, min_support = 0.06, use_colnames = True)\n",
        "\n",
        "Frequent_itemsets.sort_values('support', ascending = False).head()"
      ]
    },
    {
      "cell_type": "markdown",
      "metadata": {
        "id": "e7ARGZu7kOKp"
      },
      "source": [
        "** Association Rules:**\n",
        "\n",
        "Now since we have identified the key itemsets, let us apply the association rules to learn the purchase behaviours."
      ]
    },
    {
      "cell_type": "code",
      "execution_count": null,
      "metadata": {
        "id": "PTEDVPBikOKp"
      },
      "outputs": [],
      "source": [
        "Asso_Rules = association_rules(Frequent_itemsets, metric = \"lift\", min_threshold = 1)\n",
        "Asso_Rules.sort_values('lift',ascending = False)"
      ]
    },
    {
      "cell_type": "code",
      "execution_count": null,
      "metadata": {
        "id": "A_UBXyxWkOKq"
      },
      "outputs": [],
      "source": [
        "Basket['PLASTERS IN TIN WOODLAND ANIMALS'].sum()"
      ]
    },
    {
      "cell_type": "code",
      "execution_count": null,
      "metadata": {
        "id": "G4T8UaeFkOKq"
      },
      "outputs": [],
      "source": [
        "Basket['PLASTERS IN TIN CIRCUS PARADE'].sum()"
      ]
    },
    {
      "cell_type": "markdown",
      "source": [
        "\n",
        "\n",
        "** Purchase behaviour in UK:**\n",
        "\n"
      ],
      "metadata": {
        "id": "t6tgy0KaAaeO"
      }
    },
    {
      "cell_type": "code",
      "execution_count": null,
      "metadata": {
        "id": "lfOjjHagkOKr"
      },
      "outputs": [],
      "source": [
        "Basket_France = (df[df['Country']==\"France\"]\n",
        "          .groupby(['InvoiceNo', 'Description'])['Quantity']\n",
        "          .sum().unstack().reset_index().fillna(0)\n",
        "          .set_index('InvoiceNo'))\n",
        "\n",
        "def sum_to_boolean(x):\n",
        "    if x<=0:\n",
        "        return 0\n",
        "    else:\n",
        "        return 1\n",
        "\n",
        "Basket_Final_France = Basket_France.applymap(sum_to_boolean)\n",
        "Frequent_itemsets_France = apriori(Basket_Final_France, min_support = 0.06, use_colnames = True)\n",
        "\n",
        "Asso_Rules_France = association_rules(Frequent_itemsets_France, metric = \"lift\", min_threshold = 1)\n",
        "Asso_Rules_France.sort_values('lift',ascending = False).head()"
      ]
    },
    {
      "cell_type": "markdown",
      "metadata": {
        "id": "vPCL_uq1kOKr"
      },
      "source": [
        "Thus, it is interesting see that the most purchased together items in France are Cutlery Dolly Girls and Spaceboy, Red and green alarms and so on."
      ]
    }
  ],
  "metadata": {
    "kernelspec": {
      "display_name": "Python 2",
      "language": "python",
      "name": "python2"
    },
    "language_info": {
      "codemirror_mode": {
        "name": "ipython",
        "version": 2
      },
      "file_extension": ".py",
      "mimetype": "text/x-python",
      "name": "python",
      "nbconvert_exporter": "python",
      "pygments_lexer": "ipython2",
      "version": "2.7.13"
    },
    "colab": {
      "provenance": [],
      "include_colab_link": true
    }
  },
  "nbformat": 4,
  "nbformat_minor": 0
}